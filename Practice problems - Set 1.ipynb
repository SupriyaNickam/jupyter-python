{
 "cells": [
  {
   "cell_type": "code",
   "execution_count": 5,
   "metadata": {},
   "outputs": [
    {
     "name": "stdout",
     "output_type": "stream",
     "text": [
      "          *\n",
      "         ***\n",
      "        *****\n",
      "       *******\n",
      "      *********\n",
      "     ***********\n",
      "    *************\n",
      "   ***************\n",
      "  *****************\n"
     ]
    }
   ],
   "source": [
    "#Triangle pattern\n",
    "\n",
    "n = 10\n",
    "for i in range(1, n):\n",
    "    print(' '* (n - i), '*' * (2 * i - 1))"
   ]
  },
  {
   "cell_type": "code",
   "execution_count": 13,
   "metadata": {},
   "outputs": [
    {
     "name": "stdout",
     "output_type": "stream",
     "text": [
      "Enter value for N:10\n",
      "0\n",
      "1\n",
      "1\n",
      "2\n",
      "3\n",
      "5\n",
      "8\n",
      "13\n",
      "21\n",
      "34\n",
      "55\n"
     ]
    }
   ],
   "source": [
    "#Generate fibonacci series upto N\n",
    "\n",
    "N = int(input('Enter value for N:'))\n",
    "f1 = 0\n",
    "f2 = 1\n",
    "print(f1)\n",
    "print(f2)\n",
    "for i in range(1, N):\n",
    "    f3 = f1 + f2\n",
    "    f1 = f2\n",
    "    f2 = f3\n",
    "    print(f3)\n",
    "\n"
   ]
  },
  {
   "cell_type": "code",
   "execution_count": 15,
   "metadata": {},
   "outputs": [
    {
     "name": "stdout",
     "output_type": "stream",
     "text": [
      "Enter a number sequence:123\n",
      "Not a palindrome\n"
     ]
    }
   ],
   "source": [
    "#check whether given sequence is Palindrome\n",
    "\n",
    "number = int(input('Enter a number sequence:'))\n",
    "copy = number\n",
    "reverse = 0\n",
    "\n",
    "while (copy != 0):\n",
    "    digit = copy % 10\n",
    "    reverse = (reverse * 10) + digit\n",
    "    copy = copy // 10\n",
    "\n",
    "if number == reverse:\n",
    "    print('It is a palindrome')\n",
    "else:\n",
    "    print('Not a palindrome')\n",
    "    \n",
    "    "
   ]
  },
  {
   "cell_type": "code",
   "execution_count": 16,
   "metadata": {},
   "outputs": [
    {
     "name": "stdout",
     "output_type": "stream",
     "text": [
      "Enter a stringwater\n",
      "Reverse of the string is: retaw\n"
     ]
    }
   ],
   "source": [
    "#display the string in reverse order\n",
    "\n",
    "string = input('Enter a string')\n",
    "print('Reverse of the string is:', string[::-1] )"
   ]
  },
  {
   "cell_type": "code",
   "execution_count": 65,
   "metadata": {},
   "outputs": [
    {
     "name": "stdout",
     "output_type": "stream",
     "text": [
      "Enter value for N:15\n",
      "5\n",
      "7\n",
      "11\n",
      "13\n"
     ]
    }
   ],
   "source": [
    "#generate first N prime numbers\n",
    "\n",
    "N = int(input('Enter value for N:'))\n",
    "for num in range (1, N):\n",
    "    i = 2\n",
    "    \n",
    "    while i < num // 2: \n",
    "        if num%i == 0:\n",
    "            break\n",
    "        i += 1\n",
    "    if i == num // 2 and num != 4:          #4 is an exception because 2 == 4 // 2\n",
    "        print(num)   \n",
    "    \n",
    "    "
   ]
  },
  {
   "cell_type": "code",
   "execution_count": 59,
   "metadata": {},
   "outputs": [
    {
     "name": "stdout",
     "output_type": "stream",
     "text": [
      "Enter a number less than 20:5\n",
      "5\n",
      "10\n",
      "15\n"
     ]
    }
   ],
   "source": [
    "#Print all Numbers in a Range Divisible by a Given Number.\n",
    "\n",
    "num = int(input('Enter a number less than 20:'))\n",
    "for i in range (1, 20):\n",
    "    if i % num == 0:\n",
    "        print(i)"
   ]
  },
  {
   "cell_type": "code",
   "execution_count": 27,
   "metadata": {},
   "outputs": [
    {
     "name": "stdout",
     "output_type": "stream",
     "text": [
      "Enter dividend:25\n",
      "Enter divisor:5\n",
      "Quotient is: 5\n",
      "Remainder is:  0\n"
     ]
    }
   ],
   "source": [
    "#Read Two Numbers and Print Their Quotient and Remainder\n",
    "\n",
    "number_1 = int(input('Enter dividend:'))\n",
    "number_2 = int(input('Enter divisor:'))\n",
    "\n",
    "print('Quotient is:', number_1 // number_2)\n",
    "print('Remainder is: ', number_1 % number_2)\n"
   ]
  },
  {
   "cell_type": "code",
   "execution_count": 28,
   "metadata": {},
   "outputs": [
    {
     "name": "stdout",
     "output_type": "stream",
     "text": [
      "Enter lower bound:5\n",
      "Enter upper bound:15\n",
      "5\n",
      "7\n",
      "9\n",
      "11\n",
      "13\n"
     ]
    }
   ],
   "source": [
    "#Print Odd Numbers Within a Given Range\n",
    "\n",
    "lower = int(input('Enter lower bound:'))\n",
    "upper = int(input('Enter upper bound:'))\n",
    "\n",
    "for i in range(lower, upper):\n",
    "    if i % 2 != 0:\n",
    "        print(i)\n"
   ]
  },
  {
   "cell_type": "code",
   "execution_count": 29,
   "metadata": {},
   "outputs": [
    {
     "name": "stdout",
     "output_type": "stream",
     "text": [
      "Enter number to find sum:343\n",
      "Sum =  10\n"
     ]
    }
   ],
   "source": [
    "#Find the Sum of Digits in a Number.\n",
    "\n",
    "number = int(input('Enter number to find sum: '))\n",
    "total = 0\n",
    "\n",
    "while number != 0:\n",
    "    digit = number % 10\n",
    "    total = total + digit\n",
    "    number = number // 10\n",
    "    \n",
    "print('Sum = ', total)"
   ]
  },
  {
   "cell_type": "code",
   "execution_count": 32,
   "metadata": {},
   "outputs": [
    {
     "name": "stdout",
     "output_type": "stream",
     "text": [
      "Enter integer smaller than 50: 39\n",
      "Smallest divisor is:  3\n"
     ]
    }
   ],
   "source": [
    "#Find the Smallest Divisor of an Integer.\n",
    "\n",
    "number = int(input('Enter integer smaller than 50: '))\n",
    "\n",
    "for i in range(2, 50):\n",
    "    if number % i == 0:\n",
    "        print('Smallest divisor is: ', i)\n",
    "        break\n"
   ]
  },
  {
   "cell_type": "code",
   "execution_count": 34,
   "metadata": {},
   "outputs": [
    {
     "name": "stdout",
     "output_type": "stream",
     "text": [
      "Enter an integer: 5\n"
     ]
    },
    {
     "data": {
      "text/plain": [
       "1111111111"
      ]
     },
     "execution_count": 34,
     "metadata": {},
     "output_type": "execute_result"
    }
   ],
   "source": [
    "# Read a number n and Compute n+nn+nnn.\n",
    "\n",
    "number = int(input('Enter an integer: '))\n",
    "result = 1\n",
    "\n",
    "for i in range(1, n):\n",
    "     result = result + (n ** i)\n",
    "        \n",
    "result"
   ]
  },
  {
   "cell_type": "code",
   "execution_count": 35,
   "metadata": {},
   "outputs": [
    {
     "name": "stdout",
     "output_type": "stream",
     "text": [
      "Enter a number sequence:253618\n",
      "Reverse is:  816352\n"
     ]
    }
   ],
   "source": [
    "#Reverse a Given Number.\n",
    "\n",
    "number = int(input('Enter a number sequence:'))\n",
    "copy = number\n",
    "reverse = 0\n",
    "\n",
    "while (copy != 0):\n",
    "    digit = copy % 10\n",
    "    reverse = (reverse * 10) + digit\n",
    "    copy = copy // 10\n",
    "    \n",
    "print('Reverse is: ', reverse)"
   ]
  },
  {
   "cell_type": "code",
   "execution_count": 41,
   "metadata": {},
   "outputs": [
    {
     "name": "stdout",
     "output_type": "stream",
     "text": [
      "Average of the list is:  10\n"
     ]
    }
   ],
   "source": [
    "#Calculate the Average of Numbers in a Given List.\n",
    "\n",
    "number_list = [2, 7, 14, 11, 20]\n",
    "total = 0\n",
    "i = 0\n",
    "\n",
    "for number in number_list:\n",
    "    total = total + number\n",
    "    \n",
    "print('Average of the list is: ', (total // len(number_list)))\n",
    "    "
   ]
  },
  {
   "cell_type": "code",
   "execution_count": 40,
   "metadata": {},
   "outputs": [
    {
     "name": "stdout",
     "output_type": "stream",
     "text": [
      "Enter number to count digits: 0987654321\n",
      "The number of digits in the number is:  9\n"
     ]
    }
   ],
   "source": [
    "#Count the Number of Digits in a Number. \n",
    "\n",
    "number = int(input('Enter number to count digits: '))\n",
    "total = 0\n",
    "\n",
    "while number != 0:\n",
    "    digit = number % 10\n",
    "    total = total + 1\n",
    "    number = number // 10\n",
    "    \n",
    "print('The number of digits in the number is: ', total)"
   ]
  },
  {
   "cell_type": "code",
   "execution_count": 43,
   "metadata": {},
   "outputs": [
    {
     "name": "stdout",
     "output_type": "stream",
     "text": [
      "Enter a string: There were three dogs\n",
      "Enter pattern: re\n",
      "Number of occurrences:  3\n"
     ]
    }
   ],
   "source": [
    "#print the number of occurrence of a sub string in a given string. \n",
    "\n",
    "string = input('Enter a string: ')\n",
    "occurrence = input('Enter pattern: ')\n",
    "\n",
    "print('Number of occurrences: ', string.count(occurrence))"
   ]
  },
  {
   "cell_type": "code",
   "execution_count": 44,
   "metadata": {},
   "outputs": [
    {
     "name": "stdout",
     "output_type": "stream",
     "text": [
      "Enter a string: It was raining\n",
      "Enter pattern: wa\n",
      "Lowest index of occurrence:  3\n"
     ]
    }
   ],
   "source": [
    "#print the lowest index in the string where substring sub is found within the string.\n",
    "\n",
    "string = input('Enter a string: ')\n",
    "occurrence = input('Enter pattern: ')\n",
    "\n",
    "print('Lowest index of occurrence: ', string.find(occurrence))"
   ]
  },
  {
   "cell_type": "code",
   "execution_count": 45,
   "metadata": {},
   "outputs": [
    {
     "name": "stdout",
     "output_type": "stream",
     "text": [
      "Enter a string: Yesterday was Saturday\n"
     ]
    },
    {
     "data": {
      "text/plain": [
       "'Yesterd$y w$s S$turd$y'"
      ]
     },
     "execution_count": 45,
     "metadata": {},
     "output_type": "execute_result"
    }
   ],
   "source": [
    "#Replace all Occurrences of ‘a’ with $ in a String\n",
    "\n",
    "string = input('Enter a string: ')\n",
    "string.replace('a', '$')"
   ]
  },
  {
   "cell_type": "code",
   "execution_count": 46,
   "metadata": {},
   "outputs": [
    {
     "name": "stdout",
     "output_type": "stream",
     "text": [
      "Enter a string: Today is a holiday\n",
      "Number of vowels:  7\n"
     ]
    }
   ],
   "source": [
    "#Count the Number of Vowels in a String.\n",
    "\n",
    "string = input('Enter a string: ')\n",
    "vowels = ['a', 'e', 'i', 'o', 'u']\n",
    "count = 0\n",
    "\n",
    "\n",
    "for i in string:\n",
    "    for vowel in vowels:\n",
    "        if i == vowel:\n",
    "            count = count + 1\n",
    "            break\n",
    "            \n",
    "print('Number of vowels: ', count)\n",
    "    \n"
   ]
  },
  {
   "cell_type": "code",
   "execution_count": 48,
   "metadata": {},
   "outputs": [
    {
     "name": "stdout",
     "output_type": "stream",
     "text": [
      "Enter a string: Python is fun\n"
     ]
    },
    {
     "data": {
      "text/plain": [
       "'Python-is-fun'"
      ]
     },
     "execution_count": 48,
     "metadata": {},
     "output_type": "execute_result"
    }
   ],
   "source": [
    "#Take in a String and Replace Every Blank Space with Hyphen. \n",
    "\n",
    "string = input('Enter a string: ')\n",
    "string.replace(' ', '-')"
   ]
  },
  {
   "cell_type": "code",
   "execution_count": 49,
   "metadata": {},
   "outputs": [
    {
     "data": {
      "text/plain": [
       "13"
      ]
     },
     "execution_count": 49,
     "metadata": {},
     "output_type": "execute_result"
    }
   ],
   "source": [
    "#Find the length of string.\n",
    "\n",
    "len(string)"
   ]
  },
  {
   "cell_type": "code",
   "execution_count": 51,
   "metadata": {},
   "outputs": [
    {
     "name": "stdout",
     "output_type": "stream",
     "text": [
      "Enter first string: Happy Birthday\n",
      "Enter second string: Thank you\n",
      "Thank you\n"
     ]
    }
   ],
   "source": [
    "#Take in Two Strings and Display the Larger.\n",
    "\n",
    "string_one = input('Enter first string: ')\n",
    "string_two = input('Enter second string: ')\n",
    "\n",
    "if string_one > string_two:\n",
    "    print(string_one)\n",
    "else:\n",
    "    print(string_two)\n"
   ]
  },
  {
   "cell_type": "code",
   "execution_count": 52,
   "metadata": {},
   "outputs": [
    {
     "name": "stdout",
     "output_type": "stream",
     "text": [
      "Upper =  2\n",
      "Lower =  11\n"
     ]
    }
   ],
   "source": [
    "#Calculate the Number of Upper Case Letters and Lower Case Letters in a String.\n",
    "\n",
    "upper = 0\n",
    "lower = 0\n",
    "\n",
    "for i in string_one:\n",
    "    if i.isupper():\n",
    "        upper = upper + 1\n",
    "    elif i.islower():\n",
    "        lower = lower + 1\n",
    "        \n",
    "print('Upper = ', upper)\n",
    "print('Lower = ', lower)\n",
    "    "
   ]
  },
  {
   "cell_type": "code",
   "execution_count": null,
   "metadata": {},
   "outputs": [],
   "source": []
  }
 ],
 "metadata": {
  "kernelspec": {
   "display_name": "Python 3",
   "language": "python",
   "name": "python3"
  },
  "language_info": {
   "codemirror_mode": {
    "name": "ipython",
    "version": 3
   },
   "file_extension": ".py",
   "mimetype": "text/x-python",
   "name": "python",
   "nbconvert_exporter": "python",
   "pygments_lexer": "ipython3",
   "version": "3.8.3"
  }
 },
 "nbformat": 4,
 "nbformat_minor": 4
}
